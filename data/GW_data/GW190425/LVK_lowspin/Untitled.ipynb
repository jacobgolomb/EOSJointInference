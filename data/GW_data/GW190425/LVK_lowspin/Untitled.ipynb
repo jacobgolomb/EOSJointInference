{
 "cells": [
  {
   "cell_type": "code",
   "execution_count": 1,
   "id": "e47fbdd4-2e85-4035-9ba6-99c3b780a7bb",
   "metadata": {},
   "outputs": [
    {
     "name": "stdout",
     "output_type": "stream",
     "text": [
      "--2024-06-13 09:54:31--  https://dcc.ligo.org/public/0165/P2000026/002/posterior_samples.h5\n",
      "Resolving dcc.ligo.org (dcc.ligo.org)... 131.215.125.144\n",
      "Connecting to dcc.ligo.org (dcc.ligo.org)|131.215.125.144|:443... connected.\n",
      "HTTP request sent, awaiting response... 200 OK\n",
      "Length: 693185569 (661M)\n",
      "Saving to: ‘posterior_samples.h5’\n",
      "\n",
      "posterior_samples.h 100%[===================>] 661.07M  70.0MB/s    in 9.5s    \n",
      "\n",
      "2024-06-13 09:54:41 (69.8 MB/s) - ‘posterior_samples.h5’ saved [693185569/693185569]\n",
      "\n"
     ]
    }
   ],
   "source": [
    "!wget https://dcc.ligo.org/public/0165/P2000026/002/posterior_samples.h5"
   ]
  },
  {
   "cell_type": "code",
   "execution_count": 1,
   "id": "d3dd2e6a-d956-48bb-830e-6bc839cba525",
   "metadata": {},
   "outputs": [],
   "source": [
    "import h5py\n",
    "import matplotlib.pyplot as plt\n",
    "import bilby\n",
    "import pandas as pd"
   ]
  },
  {
   "cell_type": "code",
   "execution_count": 2,
   "id": "14cfc153-63f5-4d09-9f3b-c65962e34d47",
   "metadata": {},
   "outputs": [],
   "source": [
    "data=h5py.File(\"posterior_samples.h5\")"
   ]
  },
  {
   "cell_type": "code",
   "execution_count": 3,
   "id": "5abdb6b4-305a-4c30-a38c-4802dba3735b",
   "metadata": {},
   "outputs": [],
   "source": [
    "result = bilby.result.Result()\n",
    "result.search_parameter_keys = [\"chirp_mass\", \"mass_ratio\", \"lambda_1\", \"lambda_2\", \"luminosity_distance\"]\n",
    "result.parameter_labels = [r\"$\\mathcal{M}$\", r\"$q$\", r\"$\\Lambda$_1\",r\"$\\Lambda$_2\", r\"$D_L$\"]\n",
    "result.parameter_labels_with_unit = result.parameter_labels"
   ]
  },
  {
   "cell_type": "code",
   "execution_count": 4,
   "id": "36cfa56a-8c1a-4c3d-a61e-26a93829e566",
   "metadata": {},
   "outputs": [],
   "source": [
    "result.priors = bilby.gw.prior.ConditionalPriorDict()\n",
    "result.priors['chirp_mass'] = bilby.gw.prior.UniformInComponentsChirpMass(minimum=1.485, maximum=1.490, name='chirp_mass', latex_label=r\"$\\mathcal{M}$\")\n",
    "result.priors['mass_ratio'] = bilby.gw.prior.UniformInComponentsMassRatio(minimum=0.125, maximum=1.0, name=\"mass_ratio\", latex_label=r\"$q$\")\n",
    "\n",
    "result.priors['mass_1'] = bilby.gw.prior.Constraint(minimum=1.001398, maximum=5.31, latex_label=r\"$m_1$\")\n",
    "result.priors['mass_2'] = bilby.gw.prior.Constraint(minimum=1.001398, maximum=5.31, latex_label=r\"$m_2$\")\n",
    "\n",
    "result.priors['lambda_1'] = bilby.gw.prior.Uniform(minimum=0, maximum=5000, name='lambda_1', latex_label=r\"$\\Lambda_1$\")\n",
    "result.priors['lambda_2'] = bilby.gw.prior.Uniform(minimum=0, maximum=10000, name='lambda_2', latex_label=r\"$\\Lambda_2$\")\n",
    "\n",
    "result.priors['luminosity_distance'] = bilby.gw.prior.PowerLaw(alpha= 2, name='luminosity_distance', latex_label=r\"$D_L$\", minimum=1, maximum=1000)"
   ]
  },
  {
   "cell_type": "code",
   "execution_count": 20,
   "id": "34f946e2-bd6b-47c8-a025-04650ccaf346",
   "metadata": {},
   "outputs": [],
   "source": [
    "result.posterior = pd.DataFrame(data['PhenomDNRT-LS']['posterior_samples'][()])"
   ]
  },
  {
   "cell_type": "code",
   "execution_count": 25,
   "id": "0b8c0df9-49bd-4e05-bd44-3ee546ebdf27",
   "metadata": {},
   "outputs": [],
   "source": [
    "new_prior = result.priors.copy()\n",
    "new_prior['luminosity_distance']=bilby.gw.prior.UniformSourceFrame(name='luminosity_distance', latex_label=r\"$D_L$\", minimum=1, maximum=1000)\n",
    "distance_weights = new_prior['luminosity_distance'].prob(result.posterior['luminosity_distance']) / result.priors['luminosity_distance'].prob(result.posterior['luminosity_distance'])"
   ]
  },
  {
   "cell_type": "code",
   "execution_count": 31,
   "id": "aface539-b8b0-48c1-9842-a79028d4db8b",
   "metadata": {},
   "outputs": [],
   "source": [
    "newpost = bilby.core.result.rejection_sample(result.posterior, distance_weights)\n",
    "newpost = newpost.reset_index()"
   ]
  },
  {
   "cell_type": "code",
   "execution_count": 33,
   "id": "4c91d88f-01d3-4214-9178-dfc5677bc5c3",
   "metadata": {},
   "outputs": [],
   "source": [
    "result.posterior = newpost\n",
    "result.priors['luminosity_distance'] = new_prior['luminosity_distance']"
   ]
  },
  {
   "cell_type": "code",
   "execution_count": 34,
   "id": "dfa9e0c0-aa8a-4a16-bee7-82c1f4ab83c8",
   "metadata": {},
   "outputs": [],
   "source": [
    "result.save_to_file(\"GW190425_Pv2NRTidalv2_LowSpin.hdf5\", overwrite=True, extension='hdf5')"
   ]
  },
  {
   "cell_type": "code",
   "execution_count": 5,
   "id": "1fbbe21c-75ca-486e-a59a-a86303e78cab",
   "metadata": {},
   "outputs": [],
   "source": [
    "result.posterior = pd.DataFrame(data['PhenomDNRT-HS']['posterior_samples'][()])"
   ]
  },
  {
   "cell_type": "code",
   "execution_count": 6,
   "id": "c6519997-129c-44b3-a411-8dd9501a2b83",
   "metadata": {},
   "outputs": [],
   "source": [
    "new_prior = result.priors.copy()\n",
    "new_prior['luminosity_distance']=bilby.gw.prior.UniformSourceFrame(name='luminosity_distance', latex_label=r\"$D_L$\", minimum=1, maximum=1000)\n",
    "distance_weights = new_prior['luminosity_distance'].prob(result.posterior['luminosity_distance']) / result.priors['luminosity_distance'].prob(result.posterior['luminosity_distance'])"
   ]
  },
  {
   "cell_type": "code",
   "execution_count": 7,
   "id": "809f22c1-e8f2-47b4-b619-d5ae90cb49e3",
   "metadata": {},
   "outputs": [],
   "source": [
    "newpost = bilby.core.result.rejection_sample(result.posterior, distance_weights)\n",
    "newpost = newpost.reset_index()\n",
    "result.posterior = newpost\n",
    "result.priors['luminosity_distance'] = new_prior['luminosity_distance']\n",
    "result.save_to_file(\"GW190425_Pv2NRTidalv2_HighSpin.hdf5\", overwrite=True, extension='hdf5')"
   ]
  },
  {
   "cell_type": "code",
   "execution_count": 111,
   "id": "61afd5f8-5311-4b7f-a034-c1ee7b353f0b",
   "metadata": {},
   "outputs": [
    {
     "data": {
      "text/plain": [
       "(array([2.000e+00, 0.000e+00, 3.000e+00, 4.000e+00, 2.000e+00, 1.500e+01,\n",
       "        1.900e+01, 4.100e+01, 5.400e+01, 5.900e+01, 6.900e+01, 1.010e+02,\n",
       "        1.320e+02, 1.590e+02, 1.700e+02, 2.410e+02, 2.700e+02, 3.230e+02,\n",
       "        4.120e+02, 4.340e+02, 5.430e+02, 5.410e+02, 6.960e+02, 7.490e+02,\n",
       "        8.220e+02, 8.630e+02, 1.020e+03, 1.083e+03, 1.175e+03, 1.233e+03,\n",
       "        1.338e+03, 1.334e+03, 1.469e+03, 1.509e+03, 1.570e+03, 1.678e+03,\n",
       "        1.787e+03, 1.786e+03, 1.821e+03, 1.837e+03, 1.921e+03, 1.899e+03,\n",
       "        1.898e+03, 1.955e+03, 1.936e+03, 1.870e+03, 1.934e+03, 1.941e+03,\n",
       "        2.010e+03, 1.981e+03]),\n",
       " array([0.58372472, 0.5920501 , 0.60037548, 0.60870085, 0.61702623,\n",
       "        0.62535161, 0.63367699, 0.64200237, 0.65032774, 0.65865312,\n",
       "        0.6669785 , 0.67530388, 0.68362925, 0.69195463, 0.70028001,\n",
       "        0.70860539, 0.71693076, 0.72525614, 0.73358152, 0.7419069 ,\n",
       "        0.75023227, 0.75855765, 0.76688303, 0.77520841, 0.78353378,\n",
       "        0.79185916, 0.80018454, 0.80850992, 0.81683529, 0.82516067,\n",
       "        0.83348605, 0.84181143, 0.8501368 , 0.85846218, 0.86678756,\n",
       "        0.87511294, 0.88343831, 0.89176369, 0.90008907, 0.90841445,\n",
       "        0.91673982, 0.9250652 , 0.93339058, 0.94171596, 0.95004134,\n",
       "        0.95836671, 0.96669209, 0.97501747, 0.98334285, 0.99166822,\n",
       "        0.9999936 ]),\n",
       " <BarContainer object of 50 artists>)"
      ]
     },
     "execution_count": 111,
     "metadata": {},
     "output_type": "execute_result"
    },
    {
     "data": {
      "image/png": "[encoded data removed]",
      "text/plain": [
       "<Figure size 640x480 with 1 Axes>"
      ]
     },
     "metadata": {},
     "output_type": "display_data"
    }
   ],
   "source": [
    "plt.hist(data['PhenomPNRT-LS']['posterior_samples']['mass_ratio'][()], bins=50)"
   ]
  },
  {
   "cell_type": "code",
   "execution_count": 82,
   "id": "4cbed9d1-d808-4d80-95d1-9310d3c74576",
   "metadata": {},
   "outputs": [
    {
     "data": {
      "text/plain": [
       "960.7189550320782"
      ]
     },
     "execution_count": 82,
     "metadata": {},
     "output_type": "execute_result"
    }
   ],
   "source": [
    "max(data['PhenomPNRT-LS']['priors']['samples']['luminosity_distance'][()])"
   ]
  },
  {
   "cell_type": "code",
   "execution_count": 40,
   "id": "65b510d1-7141-4bc0-8fa2-2a977cd7adf2",
   "metadata": {},
   "outputs": [],
   "source": [
    "o3dat = h5py.File(\"../../../O3b/O3bPE/S191109d.h5\")"
   ]
  },
  {
   "cell_type": "code",
   "execution_count": 54,
   "id": "a9050f85-99d6-455a-a1a0-7c6d5c886597",
   "metadata": {},
   "outputs": [
    {
     "data": {
      "text/plain": [
       "(array([608., 453., 359., 291., 242., 204., 186., 180., 153., 120., 124.,\n",
       "        117., 112.,  92.,  83.,  85.,  76.,  97.,  63.,  67.,  60.,  57.,\n",
       "         58.,  70.,  59.,  46.,  61.,  49.,  58.,  43.,  46.,  39.,  42.,\n",
       "         28.,  38.,  51.,  30.,  35.,  34.,  37.,  33.,  35.,  37.,  26.,\n",
       "         39.,  31.,  43.,  36.,  40.,  27.]),\n",
       " array([0.05001053, 0.06899748, 0.08798443, 0.10697138, 0.12595833,\n",
       "        0.14494528, 0.16393223, 0.18291918, 0.20190613, 0.22089308,\n",
       "        0.23988002, 0.25886697, 0.27785392, 0.29684087, 0.31582782,\n",
       "        0.33481477, 0.35380172, 0.37278867, 0.39177562, 0.41076257,\n",
       "        0.42974951, 0.44873646, 0.46772341, 0.48671036, 0.50569731,\n",
       "        0.52468426, 0.54367121, 0.56265816, 0.58164511, 0.60063206,\n",
       "        0.619619  , 0.63860595, 0.6575929 , 0.67657985, 0.6955668 ,\n",
       "        0.71455375, 0.7335407 , 0.75252765, 0.7715146 , 0.79050155,\n",
       "        0.80948849, 0.82847544, 0.84746239, 0.86644934, 0.88543629,\n",
       "        0.90442324, 0.92341019, 0.94239714, 0.96138409, 0.98037104,\n",
       "        0.99935798]),\n",
       " <BarContainer object of 50 artists>)"
      ]
     },
     "execution_count": 54,
     "metadata": {},
     "output_type": "execute_result"
    },
    {
     "data": {
      "image/png": "[encoded data removed]",
      "text/plain": [
       "<Figure size 640x480 with 1 Axes>"
      ]
     },
     "metadata": {},
     "output_type": "display_data"
    }
   ],
   "source": [
    "plt.hist(o3dat['C01:IMRPhenomXPHM']['priors']['samples']['mass_ratio'][()], bins=50)"
   ]
  },
  {
   "cell_type": "code",
   "execution_count": null,
   "id": "22c0ced5-5a7f-41ca-955b-6481e4d4bcfd",
   "metadata": {},
   "outputs": [],
   "source": []
  }
 ],
 "metadata": {
  "kernelspec": {
   "display_name": "eos_mass",
   "language": "python",
   "name": "eos_mass"
  },
  "language_info": {
   "codemirror_mode": {
    "name": "ipython",
    "version": 3
   },
   "file_extension": ".py",
   "mimetype": "text/x-python",
   "name": "python",
   "nbconvert_exporter": "python",
   "pygments_lexer": "ipython3",
   "version": "3.11.9"
  }
 },
 "nbformat": 4,
 "nbformat_minor": 5
}
