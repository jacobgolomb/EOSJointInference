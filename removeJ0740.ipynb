{
 "cells": [
  {
   "cell_type": "code",
   "execution_count": 1,
   "id": "c1787d75-47b1-444a-b3b5-8916e201b4cb",
   "metadata": {},
   "outputs": [],
   "source": [
    "import h5py\n",
    "import numpy as np"
   ]
  },
  {
   "cell_type": "code",
   "execution_count": 18,
   "id": "dedd1fd5-b10e-4960-aecf-f64536e79c18",
   "metadata": {},
   "outputs": [],
   "source": [
    "data=h5py.File(\"pulsars_noJ0740.h5\")"
   ]
  },
  {
   "cell_type": "code",
   "execution_count": 20,
   "id": "9c1e19ba-9215-4633-877b-92139bd34f59",
   "metadata": {},
   "outputs": [],
   "source": []
  },
  {
   "cell_type": "code",
   "execution_count": null,
   "id": "e98aa6f6-f0a4-44b9-ae8c-f2cd7cbedbd7",
   "metadata": {},
   "outputs": [],
   "source": []
  }
 ],
 "metadata": {
  "kernelspec": {
   "display_name": "eos_mass",
   "language": "python",
   "name": "eos_mass"
  },
  "language_info": {
   "codemirror_mode": {
    "name": "ipython",
    "version": 3
   },
   "file_extension": ".py",
   "mimetype": "text/x-python",
   "name": "python",
   "nbconvert_exporter": "python",
   "pygments_lexer": "ipython3",
   "version": "3.11.9"
  }
 },
 "nbformat": 4,
 "nbformat_minor": 5
}
