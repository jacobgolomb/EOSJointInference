{
 "cells": [
  {
   "cell_type": "code",
   "execution_count": 2,
   "id": "5259ff35-6585-4bce-a6e8-b26bdd7e317b",
   "metadata": {},
   "outputs": [],
   "source": [
    "import pandas as pd\n",
    "import numpy as np\n",
    "import h5py"
   ]
  },
  {
   "cell_type": "code",
   "execution_count": 3,
   "id": "ba3be5d0-c763-4dc4-839f-e51f26d964e7",
   "metadata": {},
   "outputs": [],
   "source": [
    "original = h5py.File(\"pulsars.h5\")"
   ]
  },
  {
   "cell_type": "code",
   "execution_count": 14,
   "id": "df0a3a72-378f-45fd-8900-aee698419b5f",
   "metadata": {},
   "outputs": [
    {
     "name": "stdout",
     "output_type": "stream",
     "text": [
      "found an event that is not J0348, removing\n",
      "found an event that is not J0348, removing\n",
      "found an event that is not J0348, removing\n",
      "found an event that is not J0348, removing\n",
      "found an event that is not J0348, removing\n",
      "found an event that is not J0348, removing\n",
      "found an event that is not J0348, removing\n",
      "found an event that is not J0348, removing\n",
      "found an event that is not J0348, removing\n",
      "found an event that is not J0348, removing\n",
      "found an event that is not J0348, removing\n",
      "found an event that is not J0348, removing\n",
      "found an event that is not J0348, removing\n",
      "found an event that is not J0348, removing\n",
      "found an event that is not J0348, removing\n",
      "found an event that is not J0348, removing\n",
      "found an event that is not J0348, removing\n",
      "found an event that is not J0348, removing\n",
      "found an event that is not J0348, removing\n",
      "found an event that is not J0348, removing\n",
      "found an event that is not J0348, removing\n",
      "found an event that is not J0348, removing\n",
      "found an event that is not J0348, removing\n",
      "found an event that is not J0348, removing\n",
      "found an event that is not J0348, removing\n",
      "found an event that is not J0348, removing\n",
      "found an event that is not J0348, removing\n",
      "found an event that is not J0348, removing\n",
      "found an event that is not J0348, removing\n",
      "found an event that is not J0348, removing\n",
      "found an event that is not J0348, removing\n",
      "found an event that is not J0348, removing\n",
      "found an event that is not J0348, removing\n",
      "found an event that is not J0348, removing\n",
      "found an event that is not J0348, removing\n",
      "found an event that is not J0348, removing\n",
      "found an event that is not J0348, removing\n",
      "found an event that is not J0348, removing\n",
      "found an event that is not J0348, removing\n",
      "found an event that is not J0348, removing\n",
      "found an event that is not J0348, removing\n",
      "found an event that is not J0348, removing\n",
      "found an event that is not J0348, removing\n",
      "found an event that is not J0348, removing\n",
      "found an event that is not J0348, removing\n",
      "found an event that is not J0348, removing\n",
      "found an event that is not J0348, removing\n",
      "found an event that is not J0348, removing\n",
      "found an event that is not J0348, removing\n",
      "found an event that is not J0348, removing\n",
      "found an event that is not J0348, removing\n",
      "found an event that is not J0348, removing\n",
      "found an event that is not J0348, removing\n",
      "found an event that is not J0348, removing\n",
      "found an event that is not J0348, removing\n",
      "found an event that is not J0348, removing\n",
      "found an event that is not J0348, removing\n",
      "found an event that is not J0348, removing\n",
      "found an event that is not J0348, removing\n",
      "found an event that is not J0348, removing\n",
      "found an event that is not J0348, removing\n",
      "found an event that is not J0348, removing\n",
      "found an event that is not J0348, removing\n",
      "found an event that is not J0348, removing\n",
      "found an event that is not J0348, removing\n",
      "found an event that is not J0348, removing\n",
      "found an event that is not J0348, removing\n",
      "found an event that is not J0348, removing\n",
      "found an event that is not J0348, removing\n",
      "found an event that is not J0348, removing\n",
      "found an event that is not J0348, removing\n",
      "found an event that is not J0348, removing\n",
      "found an event that is not J0348, removing\n",
      "found an event that is not J0348, removing\n"
     ]
    }
   ],
   "source": [
    "with h5py.File('J0348.h5','w') as f_dest:\n",
    "    with h5py.File('pulsars.h5','r') as f_src:\n",
    "        for obj in f_src.keys():        \n",
    "            f_src.copy(obj, f_dest )   \n",
    "        for key in f_dest.keys():\n",
    "            remove = []\n",
    "            for ii, name in enumerate(f_dest[key]['name'][()]):\n",
    "                if ('J0348' not in str(name)):\n",
    "                    print(\"found an event that is not J0348, removing\")\n",
    "                    remove.append(ii)                  \n",
    "            for dset in f_dest[key].keys():\n",
    "                data = f_dest[key][dset][()]\n",
    "                new_data = np.delete(data, remove, axis=0)\n",
    "                del f_dest[key][dset]\n",
    "                f_dest[key].create_dataset(dset, data=new_data)"
   ]
  },
  {
   "cell_type": "code",
   "execution_count": 15,
   "id": "191a63e6-e35e-429a-be99-d4e2a78a5982",
   "metadata": {},
   "outputs": [],
   "source": [
    "dat = h5py.File(\"J0348.h5\")"
   ]
  },
  {
   "cell_type": "code",
   "execution_count": 24,
   "id": "3e5f91b0-2a86-418e-af58-74bfd3744cb4",
   "metadata": {},
   "outputs": [
    {
     "data": {
      "text/plain": [
       "array([0.04])"
      ]
     },
     "execution_count": 24,
     "metadata": {},
     "output_type": "execute_result"
    }
   ],
   "source": [
    "dat['mp']['mp_std'][()]"
   ]
  },
  {
   "cell_type": "code",
   "execution_count": null,
   "id": "3efff69d-f08d-41e9-b9b3-4346a475fbd2",
   "metadata": {},
   "outputs": [],
   "source": []
  }
 ],
 "metadata": {
  "kernelspec": {
   "display_name": "eos_mass",
   "language": "python",
   "name": "eos_mass"
  },
  "language_info": {
   "codemirror_mode": {
    "name": "ipython",
    "version": 3
   },
   "file_extension": ".py",
   "mimetype": "text/x-python",
   "name": "python",
   "nbconvert_exporter": "python",
   "pygments_lexer": "ipython3",
   "version": "3.11.9"
  }
 },
 "nbformat": 4,
 "nbformat_minor": 5
}
