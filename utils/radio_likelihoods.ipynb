{
 "cells": [
  {
   "cell_type": "code",
   "execution_count": 1,
   "id": "ce8572df-d48b-4ec9-a88e-00eaeb0d74bf",
   "metadata": {},
   "outputs": [],
   "source": [
    "import jax.numpy as jnp\n",
    "import jax\n",
    "import scipy\n",
    "import numpy as np\n",
    "from bilby.core.prior import TruncatedGaussian\n",
    "import h5py\n",
    "import matplotlib.pyplot as plt"
   ]
  },
  {
   "cell_type": "code",
   "execution_count": 227,
   "id": "ea08b3ed-0a92-49c7-87ad-0c2ce13fb585",
   "metadata": {},
   "outputs": [],
   "source": [
    "class GGpulsar(object):\n",
    "    def __init__(self, mu_p, sigma_p, xp = \"jax\"):\n",
    "        if xp == \"jax\":\n",
    "            self.xp=jnp\n",
    "            self.norm = jax.scipy.stats.norm\n",
    "        elif (xp == \"np\") or (xp == \"numpy\"):\n",
    "            self.xp = np\n",
    "            self.norm = scipy.stats.norm\n",
    "\n",
    "        self.mu_p = self.xp.array(mu_p)[...,None]\n",
    "        self.sigma_p = self.xp.array(sigma_p)[...,None]\n",
    "        \n",
    "    def likelihood_m(self, m):\n",
    "        prob = self.norm.pdf(x=m,loc=self.mu_p, scale=self.sigma_p)\n",
    "        return prob"
   ]
  },
  {
   "cell_type": "code",
   "execution_count": 228,
   "id": "2870c276-4f22-4e95-a2a0-157dc5e96be6",
   "metadata": {},
   "outputs": [],
   "source": [
    "class QGpulsar(object):\n",
    "    def __init__(self, mu_q, sigma_q, f, n_samples = 2000, xp = \"jax\"):\n",
    "        self.n_obs = len(mu_q)\n",
    "        self.mu_q = mu_q\n",
    "        self.sigma_q = sigma_q\n",
    "        if xp == \"jax\":\n",
    "            self.xp=jnp\n",
    "        elif (xp == \"np\") or (xp == \"numpy\"):\n",
    "            self.xp = np\n",
    "            \n",
    "        self.f = self.xp.array(f)\n",
    "        self.n_samples = n_samples\n",
    "        self.draw_q_samples()\n",
    "        \n",
    "    def draw_q_samples(self):\n",
    "        q_samples = []\n",
    "        for i in range(len(self.mu_q)):\n",
    "            pq = TruncatedGaussian(mu = self.mu_q[i], sigma = self.sigma_q[i], minimum = 0, maximum = np.inf)\n",
    "            q_samples.append(pq.sample(self.n_samples))\n",
    "        self.q_samples = self.xp.array(q_samples)\n",
    "        \n",
    "    def likelihood_m(self, m):\n",
    "        q = self.q_samples\n",
    "        f = self.f\n",
    "        # Reshape m and f to broadcast properly with q\n",
    "        m = m[:, None, None]  # Shape (len(m), 1, 1)\n",
    "        f = f[None, :, None]  # Shape (1, n_obs, 1)\n",
    "        q = q[None, :, :]  # Shape (1, n_obs, n_samples)\n",
    "\n",
    "        term1 = (1 + q) ** (4 / 3)\n",
    "        term2 = (f / m) ** (2 / 3) * term1 / q ** 2\n",
    "        weights = term1 / (3 * f ** (1 / 3) * m ** (2 / 3) * q ** 2 * self.xp.sqrt(1 - term2))\n",
    "        weights *= m\n",
    "\n",
    "        return self.xp.mean(weights, axis=2).T  # Return mean over samples axis, shape (n_obs, len(m))"
   ]
  },
  {
   "cell_type": "code",
   "execution_count": 277,
   "id": "eea3365a-a5aa-4f6a-b28a-1a183752d57c",
   "metadata": {},
   "outputs": [],
   "source": [
    "class MTpulsar(object):\n",
    "    def __init__(self, mu_mt, sigma_mt, f, n_samples = 3000, min_mc = 0.2, xp = np):\n",
    "        self.n_obs = len(mu_mt)\n",
    "        self.mu_mt = mu_mt\n",
    "        self.sigma_mt = sigma_mt\n",
    "        if xp == \"jax\":\n",
    "            self.xp=jnp\n",
    "            self.norm = jax.scipy.stats.norm\n",
    "        elif (xp == \"np\") or (xp == \"numpy\"):\n",
    "            self.xp = np\n",
    "            self.norm = scipy.stats.norm\n",
    "        \n",
    "        self.f = self.xp.array(f[...,None])\n",
    "        self.n_samples = n_samples\n",
    "        self.min_mc = min_mc\n",
    "        self.draw_mt_samples()\n",
    "    \"\"\"\n",
    "        \n",
    "    def draw_mt_samples(self):\n",
    "        mt_samples = []\n",
    "        for i in range(len(self.mu_mt)):\n",
    "            pmt = TruncatedGaussian(mu = float(self.mu_mt[i]), sigma = float(self.sigma_mt[i]), minimum = 0, maximum = 10)\n",
    "            samples = pmt.sample(self.n_samples)\n",
    "            mt_samples.append(samples)\n",
    "            \n",
    "        self.mt_samples = self.xp.array(mt_samples).T[...,None,None]\n",
    "    \"\"\"\n",
    "        \n",
    "    def likelihood_m_direct(self, m):\n",
    "        weight_array = []\n",
    "        for i in range(len(self.f)):\n",
    "            f = self.f[i]\n",
    "            pmt = TruncatedGaussian(mu = float(self.mu_mt[i]), sigma = float(self.sigma_mt[i]), minimum = 0, maximum = np.inf)\n",
    "            mc = pmt.sample(50000)[...,None] - m\n",
    "            \n",
    "            mt = mc + m\n",
    "            q = mc/m\n",
    "            weights= ((1 + q)**(4/3) / (3 * f**(1/3) * (m**(2/3) * q**2) * \n",
    "                                  self.xp.sqrt(1 - (f/m)**(2/3) * (1 + q)**(4/3) / q**2)\n",
    "                     ) \n",
    "                     ) * ((mc > 0) & ((f/m)**(2/3) * (1 + q)**(4/3) / q**2 < 1))\n",
    "            weights=jnp.nan_to_num(weights)\n",
    "            weights = jnp.mean(weights, axis=0)\n",
    "            \n",
    "            weight_array.append(weights)\n",
    "        return jnp.array(weight_array)\n",
    "    "
   ]
  },
  {
   "cell_type": "code",
   "execution_count": 278,
   "id": "276898bc-de65-423a-8880-b42bedbbe4be",
   "metadata": {},
   "outputs": [],
   "source": [
    "class EMPulsarLikelihood(object):\n",
    "    def __init__(self,path, backend, use_cache=True):\n",
    "        data = h5py.File(path)\n",
    "        if backend == \"jax\":\n",
    "            self.xp=jnp\n",
    "            self.norm = jax.scipy.stats.norm\n",
    "        elif (backend == \"np\") or (backend == \"numpy\"):\n",
    "            self.xp = np\n",
    "            self.norm = scipy.stats.norm\n",
    "        mu_ps = np.array(data['mp']['mp_mean'][()])\n",
    "        sigma_ps = np.array(data['mp']['mp_std'][()])\n",
    "        self.GP = GGpulsar(mu_ps, sigma_ps, xp = backend)\n",
    "        \n",
    "        mu_qs = data['q']['q_mean'][()]\n",
    "        sigma_qs = data['q']['q_std'][()]\n",
    "        q_fs = data['q']['f'][()]\n",
    "        self.GQ = QGpulsar(mu_qs, sigma_qs, q_fs, xp = backend)\n",
    "\n",
    "        mu_mts = np.array(data['mt']['mt_mean'][()])\n",
    "        sigma_mts = np.array(data['mt']['mt_std'][()])\n",
    "        mt_fs = np.array(data['mt']['f'][()])\n",
    "        self.GMT = MTpulsar(mu_mts, sigma_mts, mt_fs, xp = backend)\n",
    "        \n",
    "    def log_likelihood_mc(self, m):\n",
    "        per_event_GMTs = self.xp.mean(self.GMT.likelihood_m(m), axis=-1)\n",
    "        per_event_GQs = self.xp.mean(self.GQ.likelihood_m(m), axis=-1)\n",
    "        per_event_GPs = self.xp.mean(self.GP.likelihood_m(m), axis=-1)\n",
    "      \n",
    "        return self.xp.sum(self.xp.log(per_event_GMTs)) + self.xp.sum(self.xp.log(per_event_GPs)) + self.xp.sum(self.xp.log(per_event_GQs))\n",
    "    \n",
    "    def log_likelihood_interp(self, m):\n",
    "        per_event_GMTs = self.xp.mean(self.GMT.likelihood_m_cached(m), axis=-1)\n",
    "        per_event_GQs = self.xp.mean(self.GQ.likelihood_m_cached(m), axis=-1)\n",
    "        per_event_GPs = self.xp.mean(self.GP.likelihood_m(m), axis=-1)\n",
    "\n",
    "        return self.xp.sum(self.xp.log(per_event_GMTs)) + self.xp.sum(self.xp.log(per_event_GPs)) + self.xp.sum(self.xp.log(per_event_GQs))\n",
    "    \n",
    "    def log_likelihood(self, m):\n",
    "        \n",
    "        return self.log_likelihood_func(m)\n",
    "    \n",
    "    def likelihood_per_event_per_sample(self, m):\n",
    "        per_event_per_sample_GMTs = self.GMT.likelihood_m(m)\n",
    "        per_event_per_sample_GQs = self.GQ.likelihood_m(m)\n",
    "        per_event_per_sample_GPs = self.GP.likelihood_m(m)\n",
    "        return self.xp.concatenate((per_event_per_sample_GMTs,per_event_per_sample_GQs,per_event_per_sample_GPs))\n",
    "        "
   ]
  },
  {
   "cell_type": "code",
   "execution_count": 279,
   "id": "67c368c6-1014-4f9b-b96a-b2dd7bbfa03e",
   "metadata": {},
   "outputs": [],
   "source": [
    "EMPulsar=EMPulsarLikelihood(path='../AlsingNSMassReplication/pulsars.h5', backend=\"jax\")"
   ]
  },
  {
   "cell_type": "code",
   "execution_count": 280,
   "id": "9d86e992-78f4-4129-ad4b-3757074cdf0f",
   "metadata": {},
   "outputs": [],
   "source": [
    "Likes=EMPulsar.likelihood_per_event_per_sample(jnp.linspace(1,3,1001))"
   ]
  },
  {
   "cell_type": "code",
   "execution_count": null,
   "id": "3b7b9b46-0281-4821-9d45-84dd000bc6f6",
   "metadata": {},
   "outputs": [],
   "source": [
    "EMPulsar.mu_q"
   ]
  },
  {
   "cell_type": "code",
   "execution_count": 331,
   "id": "672036cc-ce84-4c05-9fb5-fafd45a3fd47",
   "metadata": {},
   "outputs": [
    {
     "data": {
      "text/plain": [
       "Array(True, dtype=bool)"
      ]
     },
     "execution_count": 331,
     "metadata": {},
     "output_type": "execute_result"
    }
   ],
   "source": [
    "jnp.isfinite(masses**(4/3) / (3 * (mts - masses)**2 * EMPulsar.GMT.f[0]**(1/3) * jnp.sqrt(1 - EMPulsar.GMT.f[0]**(2/3) * mts**(4/3) / (mts - masses)**2))[0]).any()"
   ]
  },
  {
   "cell_type": "code",
   "execution_count": 188,
   "id": "34c0877c-be34-4f20-9087-95b493634925",
   "metadata": {},
   "outputs": [],
   "source": [
    "dat=h5py.File('../AlsingNSMassReplication/pulsars.h5')"
   ]
  },
  {
   "cell_type": "code",
   "execution_count": 212,
   "id": "efc837df-edf9-4980-8863-21c1f9656cb7",
   "metadata": {},
   "outputs": [],
   "source": [
    "for ii, name in enumerate(dat['mp']['name'][()]):\n",
    "    if \"J1748\" in str(name):\n",
    "        print(ii, name)"
   ]
  },
  {
   "cell_type": "code",
   "execution_count": 213,
   "id": "ab473edd-b20e-4f0e-bef4-4aa6e413abc2",
   "metadata": {},
   "outputs": [
    {
     "data": {
      "text/plain": [
       "array([b'J1913+1102', b'J0024-7204H', b'J0514-4002A', b'J0621+1002',\n",
       "       b'B1516+02B', b'J1748-2021B', b'J1748-2446I', b'J1748-2446J',\n",
       "       b'B1802-07', b'J1824-2452C', b'B2303+46', b'J1750-37A'],\n",
       "      dtype='|S11')"
      ]
     },
     "execution_count": 213,
     "metadata": {},
     "output_type": "execute_result"
    }
   ],
   "source": [
    "dat['mt']['name'][()]"
   ]
  },
  {
   "cell_type": "code",
   "execution_count": 85,
   "id": "d203a7ae-4d95-4713-99e4-e91456100804",
   "metadata": {},
   "outputs": [],
   "source": [
    "for i, like in enumerate(Likes):\n",
    "    if jnp.any(jnp.isnan(like)):\n",
    "        print(i)"
   ]
  },
  {
   "cell_type": "code",
   "execution_count": 302,
   "id": "2ab5d528-8077-4644-84b2-1935f865cb1d",
   "metadata": {},
   "outputs": [
    {
     "data": {
      "text/plain": [
       "(2000, 12, 1)"
      ]
     },
     "execution_count": 302,
     "metadata": {},
     "output_type": "execute_result"
    }
   ],
   "source": [
    "EMPulsar.GMT.mt_samples.shape"
   ]
  },
  {
   "cell_type": "code",
   "execution_count": 303,
   "id": "32c88d82-87e3-47ec-b3d9-1555b3b24d2a",
   "metadata": {},
   "outputs": [],
   "source": [
    "masses = jnp.linspace(1,3,1000)\n",
    "indices = jnp.where(EMPulsar.GMT.f[0]**(2/3) * EMPulsar.GMT.mt_samples[:,0]**(4/3) / (EMPulsar.GMT.mt_samples[:,0] - masses)**2 > 1)"
   ]
  },
  {
   "cell_type": "code",
   "execution_count": 304,
   "id": "db86c941-14ff-4304-8935-0634df9468b2",
   "metadata": {},
   "outputs": [
    {
     "data": {
      "text/plain": [
       "Array([1.852853 , 1.854855 , 1.856857 , ..., 2.995996 , 2.9979982,\n",
       "       3.       ], dtype=float32)"
      ]
     },
     "execution_count": 304,
     "metadata": {},
     "output_type": "execute_result"
    }
   ],
   "source": [
    "masses[indices[1]]"
   ]
  },
  {
   "cell_type": "code",
   "execution_count": 20,
   "id": "4af37499-9a01-4d59-a0b8-480994677af1",
   "metadata": {},
   "outputs": [
    {
     "data": {
      "text/plain": [
       "array([ 69.2 , 175.  ,   5.85,   9.54,   3.45])"
      ]
     },
     "execution_count": 20,
     "metadata": {},
     "output_type": "execute_result"
    }
   ],
   "source": [
    "EMPulsar.GQ.mu_q\n"
   ]
  },
  {
   "cell_type": "code",
   "execution_count": 39,
   "id": "086e54b9-efc5-486a-a9dd-ce97e0bf900a",
   "metadata": {},
   "outputs": [
    {
     "data": {
      "text/plain": [
       "(array([  3.,  18.,  92., 231., 471., 553., 401., 184.,  36.,  11.]),\n",
       " array([66.22910309, 66.78961182, 67.35012054, 67.91062164, 68.47113037,\n",
       "        69.0316391 , 69.59214783, 70.15265656, 70.71315765, 71.27366638,\n",
       "        71.83417511]),\n",
       " <BarContainer object of 10 artists>)"
      ]
     },
     "execution_count": 39,
     "metadata": {},
     "output_type": "execute_result"
    },
    {
     "data": {
      "image/png": "[encoded data removed]",
      "text/plain": [
       "<Figure size 640x480 with 1 Axes>"
      ]
     },
     "metadata": {},
     "output_type": "display_data"
    }
   ],
   "source": [
    "plt.hist(EMPulsar.GQ.q_samples[:,0].flatten())"
   ]
  },
  {
   "cell_type": "code",
   "execution_count": 312,
   "id": "c3c95369-1e6c-4761-86c2-8bb647d7945a",
   "metadata": {},
   "outputs": [
    {
     "data": {
      "text/plain": [
       "Array([0.136344], dtype=float32)"
      ]
     },
     "execution_count": 312,
     "metadata": {},
     "output_type": "execute_result"
    }
   ],
   "source": [
    "EMPulsar.GMT.f[0]"
   ]
  },
  {
   "cell_type": "code",
   "execution_count": 185,
   "id": "4ce6d2a9-36c2-482a-8bf3-fa14038319ab",
   "metadata": {},
   "outputs": [],
   "source": [
    "def testfunc(m , mt, f ,mu_t, sigma_t):    \n",
    "    return m**(4/3) / (3 * (mt - m)**2 * f**(1/3) * jnp.sqrt(1 - f**(2/3) * mt**(4/3) / (mt - m)**2)) * jax.scipy.stats.norm.pdf(mt, loc=mu_t, scale=sigma_t)"
   ]
  },
  {
   "cell_type": "code",
   "execution_count": 204,
   "id": "9b7cc161-4acf-42d5-87b7-5b338f5ec0bb",
   "metadata": {},
   "outputs": [
    {
     "data": {
      "text/plain": [
       "Array([0.43515933], dtype=float32)"
      ]
     },
     "execution_count": 204,
     "metadata": {},
     "output_type": "execute_result"
    }
   ],
   "source": [
    "EMPulsar.GMT.f[1]**(2/3) * 1.665**(4/3) / (1.665 - 1.4)**2"
   ]
  },
  {
   "cell_type": "code",
   "execution_count": 146,
   "id": "d6b0ac38-68c4-4445-8e2b-f5d27cc2c6d0",
   "metadata": {},
   "outputs": [
    {
     "ename": "NameError",
     "evalue": "name 'testfunc' is not defined",
     "output_type": "error",
     "traceback": [
      "\u001b[0;31m---------------------------------------------------------------------------\u001b[0m",
      "\u001b[0;31mNameError\u001b[0m                                 Traceback (most recent call last)",
      "Cell \u001b[0;32mIn[146], line 5\u001b[0m\n\u001b[1;32m      3\u001b[0m mps \u001b[38;5;241m=\u001b[39m np\u001b[38;5;241m.\u001b[39mlinspace(\u001b[38;5;241m1\u001b[39m, \u001b[38;5;241m3\u001b[39m, \u001b[38;5;241m100\u001b[39m)\n\u001b[1;32m      4\u001b[0m X, Y \u001b[38;5;241m=\u001b[39m np\u001b[38;5;241m.\u001b[39mmeshgrid(mts, mps)\n\u001b[0;32m----> 5\u001b[0m Z \u001b[38;5;241m=\u001b[39m \u001b[43mtestfunc\u001b[49m(X, Y, EMPulsar\u001b[38;5;241m.\u001b[39mGMT\u001b[38;5;241m.\u001b[39mf[\u001b[38;5;241m1\u001b[39m], EMPulsar\u001b[38;5;241m.\u001b[39mGMT\u001b[38;5;241m.\u001b[39mmu_mt[\u001b[38;5;241m1\u001b[39m], EMPulsar\u001b[38;5;241m.\u001b[39mGMT\u001b[38;5;241m.\u001b[39msigma_mt[\u001b[38;5;241m1\u001b[39m]) \u001b[38;5;241m*\u001b[39m (mts \u001b[38;5;241m>\u001b[39m mps)\n\u001b[1;32m      7\u001b[0m plt\u001b[38;5;241m.\u001b[39mcontour(X, Y, Z, cmap\u001b[38;5;241m=\u001b[39m\u001b[38;5;124m'\u001b[39m\u001b[38;5;124mviridis\u001b[39m\u001b[38;5;124m'\u001b[39m)\n\u001b[1;32m      8\u001b[0m plt\u001b[38;5;241m.\u001b[39mshow()\n",
      "\u001b[0;31mNameError\u001b[0m: name 'testfunc' is not defined"
     ]
    }
   ],
   "source": [
    "# Create the grid\n",
    "mts = np.linspace(0, 6, 100)\n",
    "mps = np.linspace(1, 3, 100)\n",
    "X, Y = np.meshgrid(mts, mps)\n",
    "Z = testfunc(X, Y, EMPulsar.GMT.f[1], EMPulsar.GMT.mu_mt[1], EMPulsar.GMT.sigma_mt[1]) * (mts > mps)\n",
    "\n",
    "plt.contour(X, Y, Z, cmap='viridis')\n",
    "plt.show()"
   ]
  },
  {
   "cell_type": "code",
   "execution_count": 41,
   "id": "56526446-23d3-4364-b6cc-d6bc91621ab1",
   "metadata": {},
   "outputs": [
    {
     "data": {
      "text/plain": [
       "(2000, 5, 1)"
      ]
     },
     "execution_count": 41,
     "metadata": {},
     "output_type": "execute_result"
    }
   ],
   "source": [
    "EMPulsar.GQ.q_samples.shape"
   ]
  },
  {
   "cell_type": "code",
   "execution_count": 207,
   "id": "83162cd2-c556-44a8-8314-b82282742cec",
   "metadata": {},
   "outputs": [
    {
     "data": {
      "text/plain": [
       "array([b'4U1700-377', b'Cyg X-2', b'SMC X-1', b'Cen X-3',\n",
       "       b'XTE J2123-058', b'4U 1822-371', b'OAO 1657-415',\n",
       "       b'J013236.7+303228', b'Vela X-1', b'4U1538-522', b'LMC X-4',\n",
       "       b'Her X-1', b'2S 0921-630', b'EXO 1722-363', b'SAX J1802.7-2017',\n",
       "       b'XTE J1855-026', b'J0453+1559', b'J0453+1559 comp.',\n",
       "       b'J1906+0746', b'J1906+0746 comp.', b'B1534+12', b'B1534+12 comp.',\n",
       "       b'B1913+16', b'B1913+16 comp.', b'B2127+11C', b'B2127+11C comp.',\n",
       "       b'J0737-3039A', b'J0737-3039B', b'J1756-2251', b'J1756-2251 comp.',\n",
       "       b'J1807-2500B', b'J1807-2500B comp.', b'J2045+3633', b'J2053+4650',\n",
       "       b'J1713+0747', b'B1855+09', b'J0751+1807', b'J1141-6545',\n",
       "       b'J1738+0333', b'J1614-2230', b'J0348+0432', b'J2222-0137',\n",
       "       b'J2234+0611', b'J1949+3106', b'J1012+5307', b'J0437-4715',\n",
       "       b'J1909-3744', b'J1802-2124', b'J1911-5958A', b'J2043+1711',\n",
       "       b'J0337+1715', b'J1946+3417', b'J1918-0642', b'J1600-3053',\n",
       "       b'J0045-7319', b'J1023+0038', b'J1903+0327', b'J0740+6620'],\n",
       "      dtype='|S17')"
      ]
     },
     "execution_count": 207,
     "metadata": {},
     "output_type": "execute_result"
    }
   ],
   "source": [
    "dat['mp']['name'][()]"
   ]
  },
  {
   "cell_type": "code",
   "execution_count": 203,
   "id": "5060489d-2055-47ee-8522-55f42d662ad6",
   "metadata": {},
   "outputs": [
    {
     "data": {
      "text/plain": [
       "Text(0.5, 0, '$m_p$')"
      ]
     },
     "execution_count": 203,
     "metadata": {},
     "output_type": "execute_result"
    },
    {
     "data": {
      "image/png": "[encoded data removed]",
      "text/plain": [
       "<Figure size 640x480 with 1 Axes>"
      ]
     },
     "metadata": {},
     "output_type": "display_data"
    }
   ],
   "source": [
    "plt.plot(jnp.linspace(1,3,1000), Likes[10])\n",
    "plt.xlabel(\"$m_p$\")"
   ]
  },
  {
   "cell_type": "code",
   "execution_count": 285,
   "id": "1d9ffddb-1fbe-4baa-a8b5-ca9037833169",
   "metadata": {},
   "outputs": [
    {
     "data": {
      "text/plain": [
       "Text(0.5, 0, '$m_p$')"
      ]
     },
     "execution_count": 285,
     "metadata": {},
     "output_type": "execute_result"
    },
    {
     "data": {
      "image/png": "[encoded data removed]",
      "text/plain": [
       "<Figure size 640x480 with 1 Axes>"
      ]
     },
     "metadata": {},
     "output_type": "display_data"
    }
   ],
   "source": [
    "plt.plot(jnp.linspace(1,3,1001), Likes[66])\n",
    "plt.xlabel(\"$m_p$\")"
   ]
  },
  {
   "cell_type": "code",
   "execution_count": 218,
   "id": "a9379329-806b-4d76-8214-4c0b518e64c4",
   "metadata": {},
   "outputs": [
    {
     "data": {
      "text/plain": [
       "12"
      ]
     },
     "execution_count": 218,
     "metadata": {},
     "output_type": "execute_result"
    }
   ],
   "source": [
    "len(dat['mt']['name'][()])"
   ]
  },
  {
   "cell_type": "code",
   "execution_count": 215,
   "id": "4119add5-ba7f-45dc-b272-7a843a7bcf95",
   "metadata": {},
   "outputs": [
    {
     "data": {
      "text/plain": [
       "array([b'B1957+20', b'J1311-3430', b'J1740-5350', b'J1816+4510',\n",
       "       b'J1723-2837'], dtype='|S10')"
      ]
     },
     "execution_count": 215,
     "metadata": {},
     "output_type": "execute_result"
    }
   ],
   "source": [
    "dat['q']['name'][()]"
   ]
  },
  {
   "cell_type": "code",
   "execution_count": 233,
   "id": "29c595a3-631a-4b90-a3d6-2acaaa541583",
   "metadata": {},
   "outputs": [
    {
     "data": {
      "text/plain": [
       "Text(0.5, 0, '$m_p$')"
      ]
     },
     "execution_count": 233,
     "metadata": {},
     "output_type": "execute_result"
    },
    {
     "data": {
      "image/png": "[encoded data removed]",
      "text/plain": [
       "<Figure size 640x480 with 1 Axes>"
      ]
     },
     "metadata": {},
     "output_type": "display_data"
    }
   ],
   "source": [
    "plt.plot(jnp.linspace(1,3,1000), Likes[14])\n",
    "plt.xlabel(\"$m_p$\")"
   ]
  },
  {
   "cell_type": "code",
   "execution_count": 287,
   "id": "27c8d913-50f1-4992-aa20-f59a6194035e",
   "metadata": {},
   "outputs": [
    {
     "data": {
      "text/plain": [
       "Text(0.5, 0, '$m_p$')"
      ]
     },
     "execution_count": 287,
     "metadata": {},
     "output_type": "execute_result"
    },
    {
     "data": {
      "image/png": "[encoded data removed]",
      "text/plain": [
       "<Figure size 640x480 with 1 Axes>"
      ]
     },
     "metadata": {},
     "output_type": "display_data"
    }
   ],
   "source": [
    "plt.plot(jnp.linspace(1,3,1001), Likes[15])\n",
    "plt.xlabel(\"$m_p$\")"
   ]
  },
  {
   "cell_type": "code",
   "execution_count": 116,
   "id": "bba3f876-a0ee-45dc-8227-5c791ec0af63",
   "metadata": {},
   "outputs": [],
   "source": [
    "def testfunc(m, mt, f):\n",
    "    return f**(2/3) * mt**(4/3) / (mt - m)**2"
   ]
  },
  {
   "cell_type": "code",
   "execution_count": 119,
   "id": "56d37211-1896-4ed8-9609-e6763ec6b382",
   "metadata": {},
   "outputs": [
    {
     "data": {
      "text/plain": [
       "(Array([   0,    0,    0, ..., 9999, 9999, 9999], dtype=int32),\n",
       " Array([248, 249, 250, ..., 415, 416, 417], dtype=int32))"
      ]
     },
     "execution_count": 119,
     "metadata": {},
     "output_type": "execute_result"
    }
   ],
   "source": [
    "masses=jnp.linspace(1,3,1000)\n",
    "jnp.where(testfunc(masses, EMPulsar.GMT.mt_samples[:,1],  EMPulsar.GMT.f[1])>1)"
   ]
  },
  {
   "cell_type": "code",
   "execution_count": 102,
   "id": "c0665a95-c75b-40ac-8081-ae0449264a38",
   "metadata": {},
   "outputs": [
    {
     "data": {
      "text/plain": [
       "Array([[1.6732486],\n",
       "       [1.6674626],\n",
       "       [1.6578697],\n",
       "       ...,\n",
       "       [1.6570717],\n",
       "       [1.6783266],\n",
       "       [1.659897 ]], dtype=float32)"
      ]
     },
     "execution_count": 102,
     "metadata": {},
     "output_type": "execute_result"
    }
   ],
   "source": [
    "EMPulsar.GMT.mt_samples[:,1]"
   ]
  },
  {
   "cell_type": "code",
   "execution_count": 101,
   "id": "73fe8cdb-7c0d-4a00-8ad7-5c90cd13562a",
   "metadata": {},
   "outputs": [
    {
     "data": {
      "text/plain": [
       "Array([[6.1210794, 6.1754303, 6.230356 , ..., 6.671206 , 6.6568027,\n",
       "        6.642462 ],\n",
       "       [6.2305503, 6.28623  , 6.3425026, ..., 6.612439 , 6.5982533,\n",
       "        6.5841265],\n",
       "       [6.4186707, 6.4766545, 6.535265 , ..., 6.516715 , 6.5028796,\n",
       "        6.489102 ],\n",
       "       ...,\n",
       "       [6.434705 , 6.4928865, 6.5516977, ..., 6.5088468, 6.4950395,\n",
       "        6.4812913],\n",
       "       [6.0273795, 6.080603 , 6.1343837, ..., 6.723434 , 6.708837 ,\n",
       "        6.6943026],\n",
       "       [6.3782067, 6.435692 , 6.493798 , ..., 6.536769 , 6.5228605,\n",
       "        6.5090103]], dtype=float32)"
      ]
     },
     "execution_count": 101,
     "metadata": {},
     "output_type": "execute_result"
    }
   ],
   "source": [
    "testfunc(masses, EMPulsar.GMT.mt_samples[:,1],  EMPulsar.GMT.f[1])"
   ]
  },
  {
   "cell_type": "code",
   "execution_count": 8,
   "id": "1e490f15-aeb3-4318-97d1-bd2750b38aa5",
   "metadata": {},
   "outputs": [],
   "source": [
    "GG = GGpulsar(jnp.array([1,2,3]),jnp.array([0.1, 0.3, 0.5]))"
   ]
  },
  {
   "cell_type": "code",
   "execution_count": 13,
   "id": "736bf9b6-a19b-4925-8bb5-0aa1096779ec",
   "metadata": {},
   "outputs": [],
   "source": [
    "QG = QGpulsar(jnp.array([1,2,3]),jnp.array([0.1, 0.3, 0.5]), jnp.array([1,2,3]))"
   ]
  },
  {
   "cell_type": "code",
   "execution_count": null,
   "id": "6d4d1e04-7335-475c-8a94-6b3bafe3d5b9",
   "metadata": {},
   "outputs": [],
   "source": []
  },
  {
   "cell_type": "code",
   "execution_count": 15,
   "id": "ca4a28a3-e2c9-428a-b0a0-617eebacf3c5",
   "metadata": {},
   "outputs": [
    {
     "data": {
      "text/plain": [
       "Array([[nan, nan, nan, nan, nan, nan, nan, nan],\n",
       "       [nan, nan, nan, nan, nan, nan, nan, nan],\n",
       "       [nan, nan, nan, nan, nan, nan, nan, nan]], dtype=float32)"
      ]
     },
     "execution_count": 15,
     "metadata": {},
     "output_type": "execute_result"
    }
   ],
   "source": [
    "QG.likelihood_m(jnp.ones(8))"
   ]
  },
  {
   "cell_type": "code",
   "execution_count": null,
   "id": "18502ac5-9e0d-4ebb-ac80-93e89675b0e4",
   "metadata": {},
   "outputs": [],
   "source": []
  }
 ],
 "metadata": {
  "kernelspec": {
   "display_name": "eos_mass",
   "language": "python",
   "name": "eos_mass"
  },
  "language_info": {
   "codemirror_mode": {
    "name": "ipython",
    "version": 3
   },
   "file_extension": ".py",
   "mimetype": "text/x-python",
   "name": "python",
   "nbconvert_exporter": "python",
   "pygments_lexer": "ipython3",
   "version": "3.11.9"
  }
 },
 "nbformat": 4,
 "nbformat_minor": 5
}
