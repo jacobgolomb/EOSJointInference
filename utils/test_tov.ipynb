{
 "cells": [
  {
   "cell_type": "code",
   "execution_count": 1,
   "id": "3a959d10-8bbe-4614-bff7-cf373891cd41",
   "metadata": {},
   "outputs": [
    {
     "ename": "ImportError",
     "evalue": "cannot import name 'LAL_G_C4_SI' from 'lalsimulation' (/cvmfs/oasis.opensciencegrid.org/ligo/sw/conda/envs/igwn-py39/lib/python3.9/site-packages/lalsimulation/__init__.py)",
     "output_type": "error",
     "traceback": [
      "\u001b[0;31m---------------------------------------------------------------------------\u001b[0m",
      "\u001b[0;31mImportError\u001b[0m                               Traceback (most recent call last)",
      "Cell \u001b[0;32mIn[1], line 1\u001b[0m\n\u001b[0;32m----> 1\u001b[0m \u001b[38;5;28;01mfrom\u001b[39;00m \u001b[38;5;21;01mlalsimulation\u001b[39;00m \u001b[38;5;28;01mimport\u001b[39;00m LAL_G_C4_SI\n",
      "\u001b[0;31mImportError\u001b[0m: cannot import name 'LAL_G_C4_SI' from 'lalsimulation' (/cvmfs/oasis.opensciencegrid.org/ligo/sw/conda/envs/igwn-py39/lib/python3.9/site-packages/lalsimulation/__init__.py)"
     ]
    }
   ],
   "source": [
    "from lalsimulation.unit import LAL_G_C4_SI"
   ]
  },
  {
   "cell_type": "code",
   "execution_count": null,
   "id": "e18923c6-1a47-4005-a6fb-7ca0e385f1af",
   "metadata": {},
   "outputs": [],
   "source": [
    "epsabs = 0.0\n",
    "epsrel = 1e-6\n",
    "def TOV_integrate(central_pressure_si, eos):\n",
    "    \"\"\"\n",
    "    /* central values */\n",
    "    /* note: will be updated with Lindblom's series expansion */\n",
    "    /* geometrisized units for variables in length (m) */\n",
    "     \"\"\"\n",
    "    pc = central_pressure_si * LAL_G_C4_SI;\n",
    "    ec = XLALSimNeutronStarEOSEnergyDensityOfPressureGeometerized(pc, eos);\n",
    " double hc =\n",
    "     XLALSimNeutronStarEOSPseudoEnthalpyOfPressureGeometerized(pc, eos);\n",
    " double dedp_c =\n",
    "     XLALSimNeutronStarEOSEnergyDensityDerivOfPressureGeometerized(pc, eos);\n",
    " double dhdp_c = 1.0 / (ec + pc);\n",
    " double dedh_c = dedp_c / dhdp_c;\n",
    " double dh = -1e-3 * hc;\n",
    " double h0 = hc + dh;\n",
    " double h1 = 0.0 - dh;\n",
    " double r0 = sqrt(-3.0 * dh / (2.0 * LAL_PI * (ec + 3.0 * pc)));\n",
    " double m0 = 4.0 * LAL_PI * r0 * r0 * r0 * ec / 3.0;\n",
    " double H0 = r0 * r0;\n",
    " double b0 = 2.0 * r0;\n",
    "\n",
    " double yy;\n",
    " double c;\n",
    " double h;\n",
    " size_t i;\n",
    "\n",
    " /* series expansion for the initial core */\n",
    "\n",
    " /* second factor of Eq. (7) of Lindblom (1992) */\n",
    " r0 *= 1.0 + 0.25 * dh * (ec - 3.0 * pc  - 0.6 * dedh_c) / (ec + 3.0 * pc);\n",
    " /* second factor of Eq. (8) of Lindblom (1992) */\n",
    " m0 *= 1.0 + 0.6 * dh * dedh_c / ec;\n",
    "\n",
    " /* perform integration */\n",
    " vars->r = r0;\n",
    " vars->m = m0;\n",
    " vars->H = H0;\n",
    " vars->b = b0;\n",
    " h = h0;\n",
    " while (h > h1) {\n",
    "     int s =\n",
    "         gsl_odeiv_evolve_apply(evolv, ctrl, step, &sys, &h, h1, &dh, y);\n",
    "     if (s != GSL_SUCCESS)\n",
    "         XLAL_ERROR(XLAL_EERR,\n",
    "             \"Error encountered in GSL's ODE integrator\\n\");\n",
    " }\n",
    "\n",
    " /* take one final Euler step to get to surface */\n",
    " tov_ode(h, y, dy, eos);\n",
    " for (i = 0; i < TOV_ODE_VARS_DIM; ++i)\n",
    "     y[i] += dy[i] * (0.0 - h1);\n",
    "\n",
    " /* compute tidal Love number k2 */\n",
    " c = vars->m / vars->r;      /* compactness */\n",
    " yy = vars->r * vars->b / vars->H;\n",
    "\n",
    " /* convert from geometric units to SI units */\n",
    " *radius = vars->r;\n",
    " *mass = vars->m * LAL_MSUN_SI / LAL_MRSUN_SI;\n",
    " *love_number_k2 = tidal_Love_number_k2(c, yy);\n",
    "\n",
    " /* free ode memory */\n",
    " gsl_odeiv_evolve_free(evolv);\n",
    " gsl_odeiv_control_free(ctrl);\n",
    " gsl_odeiv_step_free(step);\n",
    " return 0;"
   ]
  }
 ],
 "metadata": {
  "kernelspec": {
   "display_name": "igwn-py39",
   "language": "python",
   "name": "igwn-py39"
  },
  "language_info": {
   "codemirror_mode": {
    "name": "ipython",
    "version": 3
   },
   "file_extension": ".py",
   "mimetype": "text/x-python",
   "name": "python",
   "nbconvert_exporter": "python",
   "pygments_lexer": "ipython3",
   "version": "3.9.16"
  }
 },
 "nbformat": 4,
 "nbformat_minor": 5
}
